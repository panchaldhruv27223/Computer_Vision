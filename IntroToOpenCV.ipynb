{
 "cells": [
  {
   "cell_type": "code",
   "execution_count": null,
   "id": "c7f080fc",
   "metadata": {},
   "outputs": [],
   "source": [
    "import numpy as np\n",
    "import matplotlib.pyplot as plt\n",
    "from PIL import Image"
   ]
  },
  {
   "cell_type": "code",
   "execution_count": null,
   "id": "6e1f6f3e",
   "metadata": {},
   "outputs": [],
   "source": [
    "img = Image.open(\"C:/Users/dhruv/Pictures/collage/IMG_4536.JPG\")"
   ]
  },
  {
   "cell_type": "code",
   "execution_count": null,
   "id": "b6d49255",
   "metadata": {
    "scrolled": true
   },
   "outputs": [],
   "source": [
    "img"
   ]
  },
  {
   "cell_type": "code",
   "execution_count": null,
   "id": "dc587020",
   "metadata": {},
   "outputs": [],
   "source": [
    "type(img)"
   ]
  },
  {
   "cell_type": "code",
   "execution_count": null,
   "id": "fc285b5b",
   "metadata": {},
   "outputs": [],
   "source": [
    "img.mode"
   ]
  },
  {
   "cell_type": "code",
   "execution_count": null,
   "id": "c9232e41",
   "metadata": {},
   "outputs": [],
   "source": [
    "img_array = np.array(img)"
   ]
  },
  {
   "cell_type": "code",
   "execution_count": null,
   "id": "67c067a6",
   "metadata": {},
   "outputs": [],
   "source": [
    "img_array"
   ]
  },
  {
   "cell_type": "code",
   "execution_count": null,
   "id": "4ce78fcc",
   "metadata": {},
   "outputs": [],
   "source": [
    "img_array.shape"
   ]
  },
  {
   "cell_type": "code",
   "execution_count": null,
   "id": "4a81c3f0",
   "metadata": {},
   "outputs": [],
   "source": [
    "plt.imshow(img_array)"
   ]
  },
  {
   "cell_type": "code",
   "execution_count": null,
   "id": "11e517a7",
   "metadata": {},
   "outputs": [],
   "source": [
    "img1 = img_array.copy()\n",
    "img2 = img_array.copy()\n",
    "img3 = img_array.copy()"
   ]
  },
  {
   "cell_type": "code",
   "execution_count": null,
   "id": "9107b168",
   "metadata": {},
   "outputs": [],
   "source": [
    "img1"
   ]
  },
  {
   "cell_type": "code",
   "execution_count": null,
   "id": "0a21b61c",
   "metadata": {},
   "outputs": [],
   "source": [
    "img1[:,:,0]"
   ]
  },
  {
   "cell_type": "code",
   "execution_count": null,
   "id": "dd8559d0",
   "metadata": {},
   "outputs": [],
   "source": [
    "img1[:,:,1]"
   ]
  },
  {
   "cell_type": "code",
   "execution_count": null,
   "id": "2822ff65",
   "metadata": {},
   "outputs": [],
   "source": [
    "img1[:,:,2]"
   ]
  },
  {
   "cell_type": "code",
   "execution_count": null,
   "id": "a00621da",
   "metadata": {},
   "outputs": [],
   "source": [
    "img1[:,:,0] = 0"
   ]
  },
  {
   "cell_type": "code",
   "execution_count": null,
   "id": "acd68354",
   "metadata": {},
   "outputs": [],
   "source": [
    "plt.imshow(img1)"
   ]
  },
  {
   "cell_type": "code",
   "execution_count": null,
   "id": "9b500d5c",
   "metadata": {},
   "outputs": [],
   "source": [
    "img1[:,:,0]"
   ]
  },
  {
   "cell_type": "code",
   "execution_count": null,
   "id": "5465d0ea",
   "metadata": {},
   "outputs": [],
   "source": [
    "img2[:,:,1]"
   ]
  },
  {
   "cell_type": "code",
   "execution_count": null,
   "id": "d8772722",
   "metadata": {},
   "outputs": [],
   "source": [
    "img2[:,:,1] = 0"
   ]
  },
  {
   "cell_type": "code",
   "execution_count": null,
   "id": "bd2aa9a9",
   "metadata": {},
   "outputs": [],
   "source": [
    "plt.imshow(img2)"
   ]
  },
  {
   "cell_type": "code",
   "execution_count": null,
   "id": "37adcc66",
   "metadata": {},
   "outputs": [],
   "source": [
    "img2[:,:,1]"
   ]
  },
  {
   "cell_type": "code",
   "execution_count": null,
   "id": "2014d412",
   "metadata": {},
   "outputs": [],
   "source": [
    "img3[:,:,2]"
   ]
  },
  {
   "cell_type": "code",
   "execution_count": null,
   "id": "841ae4f7",
   "metadata": {},
   "outputs": [],
   "source": [
    "img3[:,:,2] = 0"
   ]
  },
  {
   "cell_type": "code",
   "execution_count": null,
   "id": "a44077ae",
   "metadata": {},
   "outputs": [],
   "source": [
    "plt.imshow(img3)"
   ]
  },
  {
   "cell_type": "code",
   "execution_count": null,
   "id": "08671946",
   "metadata": {},
   "outputs": [],
   "source": [
    "img3[:,:,2]"
   ]
  },
  {
   "cell_type": "code",
   "execution_count": null,
   "id": "7a62ce5e",
   "metadata": {},
   "outputs": [],
   "source": []
  },
  {
   "cell_type": "code",
   "execution_count": null,
   "id": "ca394978",
   "metadata": {},
   "outputs": [],
   "source": []
  },
  {
   "cell_type": "code",
   "execution_count": null,
   "id": "4ddf3099",
   "metadata": {},
   "outputs": [],
   "source": [
    "img = Image.open(\"C:/Users/dhruv/Pictures/collage/IMG_4536.JPG\")"
   ]
  },
  {
   "cell_type": "code",
   "execution_count": null,
   "id": "070beb7e",
   "metadata": {},
   "outputs": [],
   "source": [
    "img.mode"
   ]
  },
  {
   "cell_type": "code",
   "execution_count": null,
   "id": "0518191b",
   "metadata": {},
   "outputs": [],
   "source": [
    "img_array = np.array(img)"
   ]
  },
  {
   "cell_type": "code",
   "execution_count": null,
   "id": "4a9bb7d5",
   "metadata": {},
   "outputs": [],
   "source": [
    "img_array.shape"
   ]
  },
  {
   "cell_type": "code",
   "execution_count": null,
   "id": "021c29be",
   "metadata": {},
   "outputs": [],
   "source": [
    "type(img)"
   ]
  },
  {
   "cell_type": "code",
   "execution_count": null,
   "id": "601c6c77",
   "metadata": {},
   "outputs": [],
   "source": [
    "type(img_array)"
   ]
  },
  {
   "cell_type": "code",
   "execution_count": null,
   "id": "57a8c75d",
   "metadata": {},
   "outputs": [],
   "source": [
    "img1 = img_array.copy()"
   ]
  },
  {
   "cell_type": "code",
   "execution_count": null,
   "id": "d27de8e9",
   "metadata": {},
   "outputs": [],
   "source": [
    "img1[:,:,0] = 0"
   ]
  },
  {
   "cell_type": "code",
   "execution_count": null,
   "id": "fc083c68",
   "metadata": {},
   "outputs": [],
   "source": [
    "plt.imshow(img1)"
   ]
  },
  {
   "cell_type": "code",
   "execution_count": null,
   "id": "340e2b33",
   "metadata": {},
   "outputs": [],
   "source": [
    "img1[:,:,1] = 0"
   ]
  },
  {
   "cell_type": "code",
   "execution_count": null,
   "id": "6f63e289",
   "metadata": {},
   "outputs": [],
   "source": [
    "plt.imshow(img1)"
   ]
  },
  {
   "cell_type": "code",
   "execution_count": null,
   "id": "55f124d4",
   "metadata": {},
   "outputs": [],
   "source": [
    "img1[:,:,2] = 0"
   ]
  },
  {
   "cell_type": "code",
   "execution_count": null,
   "id": "7267860c",
   "metadata": {},
   "outputs": [],
   "source": [
    "plt.imshow(img1)"
   ]
  },
  {
   "cell_type": "code",
   "execution_count": null,
   "id": "e1a0d093",
   "metadata": {},
   "outputs": [],
   "source": [
    "#   R , G , B = 0 0 0 "
   ]
  },
  {
   "cell_type": "code",
   "execution_count": null,
   "id": "55c29a6c",
   "metadata": {},
   "outputs": [],
   "source": [
    "img2 = img_array.copy()"
   ]
  },
  {
   "cell_type": "code",
   "execution_count": null,
   "id": "f9e62269",
   "metadata": {},
   "outputs": [],
   "source": [
    "img2.shape"
   ]
  },
  {
   "cell_type": "code",
   "execution_count": null,
   "id": "9363b5a4",
   "metadata": {},
   "outputs": [],
   "source": [
    "img2[:,:,0] = 255"
   ]
  },
  {
   "cell_type": "code",
   "execution_count": null,
   "id": "83d7b4ac",
   "metadata": {},
   "outputs": [],
   "source": [
    "plt.imshow(img2)"
   ]
  },
  {
   "cell_type": "code",
   "execution_count": null,
   "id": "28f062ac",
   "metadata": {},
   "outputs": [],
   "source": [
    "img2[:,:,1]=255"
   ]
  },
  {
   "cell_type": "code",
   "execution_count": null,
   "id": "d2428fc8",
   "metadata": {},
   "outputs": [],
   "source": [
    "plt.imshow(img2)"
   ]
  },
  {
   "cell_type": "code",
   "execution_count": null,
   "id": "53b2a6cf",
   "metadata": {},
   "outputs": [],
   "source": [
    "img2[:,:,2] = 255"
   ]
  },
  {
   "cell_type": "code",
   "execution_count": null,
   "id": "cce64e22",
   "metadata": {},
   "outputs": [],
   "source": [
    "plt.imshow(img2)"
   ]
  },
  {
   "cell_type": "code",
   "execution_count": null,
   "id": "4f4b7af4",
   "metadata": {},
   "outputs": [],
   "source": [
    "img3 = img_array.copy()"
   ]
  },
  {
   "cell_type": "code",
   "execution_count": null,
   "id": "9d890e91",
   "metadata": {},
   "outputs": [],
   "source": [
    "img3[:,:,0] = 50\n",
    "img3[:,:,1] = 100\n",
    "img3[:,:,2] = 500\n",
    "plt.imshow(img3)"
   ]
  },
  {
   "cell_type": "code",
   "execution_count": null,
   "id": "d8ea5a75",
   "metadata": {},
   "outputs": [],
   "source": [
    "img"
   ]
  },
  {
   "cell_type": "code",
   "execution_count": null,
   "id": "9ce35aa5",
   "metadata": {
    "scrolled": true
   },
   "outputs": [],
   "source": [
    "img_array"
   ]
  },
  {
   "cell_type": "code",
   "execution_count": null,
   "id": "26f95605",
   "metadata": {},
   "outputs": [],
   "source": []
  },
  {
   "cell_type": "code",
   "execution_count": null,
   "id": "ed56acde",
   "metadata": {},
   "outputs": [],
   "source": []
  },
  {
   "cell_type": "code",
   "execution_count": null,
   "id": "24510b50",
   "metadata": {},
   "outputs": [],
   "source": []
  },
  {
   "cell_type": "code",
   "execution_count": null,
   "id": "b3367bc5",
   "metadata": {},
   "outputs": [],
   "source": []
  },
  {
   "cell_type": "code",
   "execution_count": null,
   "id": "610fb9bd",
   "metadata": {},
   "outputs": [],
   "source": [
    "import pandas as pd\n",
    "import numpy as np \n",
    "from PIL import Image\n",
    "import matplotlib.pyplot as plt"
   ]
  },
  {
   "cell_type": "code",
   "execution_count": null,
   "id": "d229cc9a",
   "metadata": {},
   "outputs": [],
   "source": [
    "img = Image.open(\"C:/Users/dhruv/Pictures/collage/IMG_4535.JPG\")"
   ]
  },
  {
   "cell_type": "code",
   "execution_count": null,
   "id": "2885e10d",
   "metadata": {},
   "outputs": [],
   "source": [
    "img"
   ]
  },
  {
   "cell_type": "code",
   "execution_count": null,
   "id": "37a46b08",
   "metadata": {},
   "outputs": [],
   "source": [
    "img.getbbox()\n",
    "\n",
    "## box bounding points "
   ]
  },
  {
   "cell_type": "code",
   "execution_count": null,
   "id": "61363068",
   "metadata": {},
   "outputs": [],
   "source": [
    "img.size"
   ]
  },
  {
   "cell_type": "code",
   "execution_count": null,
   "id": "20e370f7",
   "metadata": {},
   "outputs": [],
   "source": [
    "img.format"
   ]
  },
  {
   "cell_type": "code",
   "execution_count": null,
   "id": "3572eddb",
   "metadata": {},
   "outputs": [],
   "source": [
    "img.mode"
   ]
  },
  {
   "cell_type": "code",
   "execution_count": null,
   "id": "a57280e7",
   "metadata": {},
   "outputs": [],
   "source": [
    "img_rotate =img.rotate(180)"
   ]
  },
  {
   "cell_type": "code",
   "execution_count": null,
   "id": "a10e2603",
   "metadata": {},
   "outputs": [],
   "source": [
    "img_rotate"
   ]
  },
  {
   "cell_type": "code",
   "execution_count": null,
   "id": "39c9ab97",
   "metadata": {},
   "outputs": [],
   "source": [
    "img.rotate(270)"
   ]
  },
  {
   "cell_type": "code",
   "execution_count": null,
   "id": "e1e5c475",
   "metadata": {},
   "outputs": [],
   "source": []
  },
  {
   "cell_type": "code",
   "execution_count": null,
   "id": "1e257427",
   "metadata": {},
   "outputs": [],
   "source": [
    "img1 = img.copy()"
   ]
  },
  {
   "cell_type": "code",
   "execution_count": null,
   "id": "05ac7ecb",
   "metadata": {},
   "outputs": [],
   "source": [
    "img.paste(img1,(400,60))"
   ]
  },
  {
   "cell_type": "code",
   "execution_count": null,
   "id": "104c3e0f",
   "metadata": {},
   "outputs": [],
   "source": [
    "img"
   ]
  },
  {
   "cell_type": "code",
   "execution_count": null,
   "id": "09cef058",
   "metadata": {},
   "outputs": [],
   "source": [
    "img.save(\"C:/Users/dhruv/Pictures/collage/IMG_4537.JPG\")"
   ]
  },
  {
   "cell_type": "code",
   "execution_count": null,
   "id": "aa6c1fc2",
   "metadata": {},
   "outputs": [],
   "source": [
    "flip3 = img.transpose(Image.FLIP_LEFT_RIGHT)\n",
    "flip3"
   ]
  },
  {
   "cell_type": "code",
   "execution_count": null,
   "id": "793fb7d1",
   "metadata": {},
   "outputs": [],
   "source": [
    "img.resize((1000,1000))"
   ]
  },
  {
   "cell_type": "code",
   "execution_count": null,
   "id": "5b31c7f1",
   "metadata": {},
   "outputs": [],
   "source": [
    "img.resize((800,600))"
   ]
  },
  {
   "cell_type": "code",
   "execution_count": null,
   "id": "bdf59904",
   "metadata": {},
   "outputs": [],
   "source": [
    "img.size"
   ]
  },
  {
   "cell_type": "code",
   "execution_count": null,
   "id": "f660c13b",
   "metadata": {},
   "outputs": [],
   "source": [
    "img"
   ]
  },
  {
   "cell_type": "code",
   "execution_count": null,
   "id": "324a492a",
   "metadata": {},
   "outputs": [],
   "source": [
    "img.crop((0,0,500,500))"
   ]
  },
  {
   "cell_type": "code",
   "execution_count": null,
   "id": "7513df73",
   "metadata": {},
   "outputs": [],
   "source": [
    "crop_img = img.crop((0,0,1000,1000))"
   ]
  },
  {
   "cell_type": "code",
   "execution_count": null,
   "id": "567f6312",
   "metadata": {},
   "outputs": [],
   "source": [
    "crop_img"
   ]
  },
  {
   "cell_type": "code",
   "execution_count": null,
   "id": "e427bba8",
   "metadata": {},
   "outputs": [],
   "source": [
    "flip4 = img.transpose(Image.FLIP_LEFT_RIGHT)"
   ]
  },
  {
   "cell_type": "code",
   "execution_count": null,
   "id": "f34d298c",
   "metadata": {},
   "outputs": [],
   "source": [
    "flip4"
   ]
  },
  {
   "cell_type": "code",
   "execution_count": null,
   "id": "d3845109",
   "metadata": {},
   "outputs": [],
   "source": [
    "img"
   ]
  },
  {
   "cell_type": "code",
   "execution_count": null,
   "id": "a3dde665",
   "metadata": {},
   "outputs": [],
   "source": [
    "flip5 = img.transpose(Image.FLIP_TOP_BOTTOM)"
   ]
  },
  {
   "cell_type": "code",
   "execution_count": null,
   "id": "c66d1713",
   "metadata": {},
   "outputs": [],
   "source": [
    "flip5"
   ]
  },
  {
   "cell_type": "code",
   "execution_count": null,
   "id": "68382b83",
   "metadata": {},
   "outputs": [],
   "source": [
    "from PIL import Image,ImageFilter\n",
    "\n",
    "img2 = img.filter(ImageFilter.BLUR)\n",
    "img2"
   ]
  },
  {
   "cell_type": "code",
   "execution_count": null,
   "id": "2dee0146",
   "metadata": {},
   "outputs": [],
   "source": [
    "img2.show()"
   ]
  },
  {
   "cell_type": "code",
   "execution_count": null,
   "id": "9ba5ae8c",
   "metadata": {},
   "outputs": [],
   "source": [
    "img3 = img.filter(ImageFilter.CONTOUR)\n",
    "img3.show()"
   ]
  },
  {
   "cell_type": "code",
   "execution_count": null,
   "id": "7d1d78a8",
   "metadata": {},
   "outputs": [],
   "source": [
    "img4 = img.filter(ImageFilter.EMBOSS)\n",
    "img4.show()"
   ]
  },
  {
   "cell_type": "code",
   "execution_count": null,
   "id": "b4efff8a",
   "metadata": {},
   "outputs": [],
   "source": [
    "img5 = img.filter(ImageFilter.EDGE_ENHANCE)"
   ]
  },
  {
   "cell_type": "code",
   "execution_count": null,
   "id": "25df280d",
   "metadata": {},
   "outputs": [],
   "source": [
    "img5.show()"
   ]
  },
  {
   "cell_type": "code",
   "execution_count": null,
   "id": "efdf04e8",
   "metadata": {},
   "outputs": [],
   "source": [
    "img6 = img.filter(ImageFilter.SMOOTH)\n",
    "img6.show()"
   ]
  },
  {
   "cell_type": "code",
   "execution_count": null,
   "id": "311ed513",
   "metadata": {},
   "outputs": [],
   "source": [
    "img_split = Image.Image.split(img)\n",
    "\n",
    "\n",
    "## RBG\n",
    "img_split[0].show()\n",
    "img_split[1].show()\n",
    "img_split[2].show()"
   ]
  },
  {
   "cell_type": "code",
   "execution_count": null,
   "id": "dc8054a9",
   "metadata": {},
   "outputs": [],
   "source": [
    "img_array = np.array(img)\n",
    "img_array"
   ]
  },
  {
   "cell_type": "code",
   "execution_count": null,
   "id": "919ffc18",
   "metadata": {},
   "outputs": [],
   "source": [
    "plt.imshow(img_array[:,:,0],cmap=\"gray\")"
   ]
  },
  {
   "cell_type": "code",
   "execution_count": null,
   "id": "eb755b3e",
   "metadata": {},
   "outputs": [],
   "source": [
    "plt.imshow(img_array[:,:,1],cmap=\"gray\")"
   ]
  },
  {
   "cell_type": "code",
   "execution_count": null,
   "id": "487468ba",
   "metadata": {},
   "outputs": [],
   "source": [
    "plt.imshow(img_array[:,:,2],cmap=\"gray\")"
   ]
  },
  {
   "cell_type": "code",
   "execution_count": null,
   "id": "e16a99dc",
   "metadata": {},
   "outputs": [],
   "source": []
  },
  {
   "cell_type": "code",
   "execution_count": null,
   "id": "04625a0d",
   "metadata": {},
   "outputs": [],
   "source": []
  },
  {
   "cell_type": "code",
   "execution_count": null,
   "id": "cd02962c",
   "metadata": {},
   "outputs": [],
   "source": []
  },
  {
   "cell_type": "code",
   "execution_count": null,
   "id": "2c535d31",
   "metadata": {},
   "outputs": [],
   "source": [
    "import pandas as pd\n",
    "import numpy as np\n",
    "import matplotlib.pyplot as plt\n",
    "import cv2"
   ]
  },
  {
   "cell_type": "code",
   "execution_count": null,
   "id": "0ca2df24",
   "metadata": {},
   "outputs": [],
   "source": [
    "img1 = np.zeros(shape=(500,500,3),dtype = np.int32)\n",
    "img1"
   ]
  },
  {
   "cell_type": "code",
   "execution_count": null,
   "id": "342b6732",
   "metadata": {},
   "outputs": [],
   "source": [
    "img1.shape"
   ]
  },
  {
   "cell_type": "code",
   "execution_count": null,
   "id": "2af58f23",
   "metadata": {},
   "outputs": [],
   "source": [
    "img1.size"
   ]
  },
  {
   "cell_type": "code",
   "execution_count": null,
   "id": "31252750",
   "metadata": {},
   "outputs": [],
   "source": [
    "img1.dtype"
   ]
  },
  {
   "cell_type": "code",
   "execution_count": null,
   "id": "d476223c",
   "metadata": {},
   "outputs": [],
   "source": [
    "type(img1)"
   ]
  },
  {
   "cell_type": "code",
   "execution_count": null,
   "id": "760ad17c",
   "metadata": {},
   "outputs": [],
   "source": [
    "plt.imshow(img1)"
   ]
  },
  {
   "cell_type": "code",
   "execution_count": null,
   "id": "6086e687",
   "metadata": {},
   "outputs": [],
   "source": [
    "cv2.rectangle(img1,pt1=(300,50),pt2=(400,100),color=(0,0,255),thickness=2)\n",
    "plt.imshow(img1)"
   ]
  },
  {
   "cell_type": "code",
   "execution_count": null,
   "id": "716f8671",
   "metadata": {},
   "outputs": [],
   "source": [
    "cv2.rectangle(img1,pt1=(300,300),pt2=(400,400),color=(0,255,0),thickness=3)\n",
    "plt.imshow(img1)"
   ]
  },
  {
   "cell_type": "code",
   "execution_count": null,
   "id": "66abfee5",
   "metadata": {},
   "outputs": [],
   "source": [
    "cv2.circle(img1,center=(100,50),radius=100,color=(255,0,0),thickness=4)\n",
    "plt.imshow(img1)"
   ]
  },
  {
   "cell_type": "code",
   "execution_count": null,
   "id": "97ffdcce",
   "metadata": {},
   "outputs": [],
   "source": [
    "cv2.circle(img1,center=(250,250),radius=50,color=(255,0,0),thickness=-1)\n",
    "plt.imshow(img1)"
   ]
  },
  {
   "cell_type": "code",
   "execution_count": null,
   "id": "c30b6e91",
   "metadata": {},
   "outputs": [],
   "source": [
    "cv2.line(img1,pt1=(500,500),pt2=(0,0),color=(255,255,255),thickness=3)\n",
    "plt.imshow(img1)"
   ]
  },
  {
   "cell_type": "code",
   "execution_count": null,
   "id": "9cf36248",
   "metadata": {},
   "outputs": [],
   "source": [
    "cv2.circle(img1,center=(100,50),radius=100,color=(255,0,0),thickness=4)\n",
    "plt.imshow(img1)"
   ]
  },
  {
   "cell_type": "code",
   "execution_count": null,
   "id": "b81d9499",
   "metadata": {},
   "outputs": [],
   "source": [
    "cv2.circle(img1,center=(100,50),radius=100,color=(255,0,0),thickness=-1)\n",
    "plt.imshow(img1)"
   ]
  },
  {
   "cell_type": "code",
   "execution_count": null,
   "id": "df69d6aa",
   "metadata": {},
   "outputs": [],
   "source": []
  },
  {
   "cell_type": "code",
   "execution_count": null,
   "id": "3aee8386",
   "metadata": {},
   "outputs": [],
   "source": []
  },
  {
   "cell_type": "code",
   "execution_count": null,
   "id": "8be16dbc",
   "metadata": {},
   "outputs": [],
   "source": []
  },
  {
   "cell_type": "code",
   "execution_count": null,
   "id": "88b41395",
   "metadata": {},
   "outputs": [],
   "source": [
    "import numpy as np \n",
    "import matplotlib.pyplot as plt\n",
    "from PIL import Image\n",
    "import cv2"
   ]
  },
  {
   "cell_type": "code",
   "execution_count": null,
   "id": "44a1133f",
   "metadata": {},
   "outputs": [],
   "source": [
    "img = Image.open(\"C:/Users/dhruv/Pictures/collage/IMG_4536.JPG\")"
   ]
  },
  {
   "cell_type": "code",
   "execution_count": null,
   "id": "cc409d4a",
   "metadata": {},
   "outputs": [],
   "source": [
    "img"
   ]
  },
  {
   "cell_type": "code",
   "execution_count": null,
   "id": "ed049466",
   "metadata": {},
   "outputs": [],
   "source": [
    "img2 = np.zeros((500,500,3),dtype= np.int32)\n",
    "plt.imshow(img2)"
   ]
  },
  {
   "cell_type": "code",
   "execution_count": null,
   "id": "39e0ffc4",
   "metadata": {},
   "outputs": [],
   "source": [
    "font = cv2.FONT_HERSHEY_PLAIN\n",
    "cv2.putText(img2,text=\"I am dhruv panchal\",org=(10,450),fontFace=font,fontScale=3,color=(255,255,255))\n",
    "plt.imshow(img2)"
   ]
  },
  {
   "cell_type": "code",
   "execution_count": null,
   "id": "619441cf",
   "metadata": {},
   "outputs": [],
   "source": [
    "font = cv2.FONT_HERSHEY_PLAIN\n",
    "cv2.putText(img2,text=\"I am dhruv panchal\",org=(10,450),fontFace=font,fontScale=3,color=(255,255,255),thickness=3)\n",
    "plt.imshow(img2)"
   ]
  },
  {
   "cell_type": "code",
   "execution_count": null,
   "id": "ba1e6c77",
   "metadata": {},
   "outputs": [],
   "source": [
    "font = cv2.FONT_ITALIC\n",
    "cv2.putText(img2,text=\"I am dhruv panchal\",org=(10,300),fontFace=font,fontScale=1.5,color=(255,255,255),thickness=2)\n",
    "plt.imshow(img2)"
   ]
  },
  {
   "cell_type": "code",
   "execution_count": null,
   "id": "903127ee",
   "metadata": {},
   "outputs": [],
   "source": [
    "img3 = np.zeros((500,500,3),dtype =np.int32)"
   ]
  },
  {
   "cell_type": "code",
   "execution_count": null,
   "id": "94dc8ad8",
   "metadata": {},
   "outputs": [],
   "source": [
    "img3"
   ]
  },
  {
   "cell_type": "code",
   "execution_count": null,
   "id": "32b359e3",
   "metadata": {},
   "outputs": [],
   "source": [
    "plt.imshow(img3)"
   ]
  },
  {
   "cell_type": "code",
   "execution_count": null,
   "id": "ca40dd07",
   "metadata": {},
   "outputs": [],
   "source": [
    "vertices = np.array([[50,50],[400,50],[400,300],[100,300]])\n",
    "vertices"
   ]
  },
  {
   "cell_type": "code",
   "execution_count": null,
   "id": "10236d2f",
   "metadata": {},
   "outputs": [],
   "source": [
    "cv2.polylines(img3,[vertices],isClosed=True,color=(255,0,0),thickness=2)\n",
    "plt.imshow(img3)"
   ]
  },
  {
   "cell_type": "code",
   "execution_count": null,
   "id": "4a1f72b9",
   "metadata": {},
   "outputs": [],
   "source": [
    "vertices1 = np.array([[100,400],[400,400],[250,200]],dtype=np.int32)\n",
    "vertices1"
   ]
  },
  {
   "cell_type": "code",
   "execution_count": null,
   "id": "d4071491",
   "metadata": {},
   "outputs": [],
   "source": [
    "cv2.polylines(img3,[vertices1],isClosed=True,color=(0,255,0),thickness=1)\n",
    "plt.imshow(img3)"
   ]
  },
  {
   "cell_type": "code",
   "execution_count": null,
   "id": "f55c53ad",
   "metadata": {},
   "outputs": [],
   "source": [
    "vertices2 = np.array([[50,400],[50,200],[250,50],[450,200],[450,400]],dtype=np.int32)\n",
    "vertices2"
   ]
  },
  {
   "cell_type": "code",
   "execution_count": null,
   "id": "9c7422de",
   "metadata": {},
   "outputs": [],
   "source": [
    "cv2.polylines(img3,[vertices2],isClosed=True,color=(0,0,255),thickness=3)\n",
    "plt.imshow(img3)"
   ]
  },
  {
   "cell_type": "code",
   "execution_count": null,
   "id": "5caf09d5",
   "metadata": {},
   "outputs": [],
   "source": [
    "vertices2 = np.array([[50,400],[50,200],[250,50],[450,200],[450,400],[250,450]],dtype=np.int32)\n",
    "vertices2"
   ]
  },
  {
   "cell_type": "code",
   "execution_count": null,
   "id": "644e9cbf",
   "metadata": {},
   "outputs": [],
   "source": [
    "cv2.polylines(img3,[vertices2],color=(255,255,255),isClosed=True,thickness=4)\n",
    "plt.imshow(img3)"
   ]
  },
  {
   "cell_type": "code",
   "execution_count": null,
   "id": "91e04cd5",
   "metadata": {},
   "outputs": [],
   "source": []
  },
  {
   "cell_type": "code",
   "execution_count": null,
   "id": "c51f2193",
   "metadata": {},
   "outputs": [],
   "source": []
  },
  {
   "cell_type": "code",
   "execution_count": null,
   "id": "a7b0e6f9",
   "metadata": {},
   "outputs": [],
   "source": []
  },
  {
   "cell_type": "code",
   "execution_count": null,
   "id": "d91d5b9e",
   "metadata": {},
   "outputs": [],
   "source": []
  },
  {
   "cell_type": "code",
   "execution_count": null,
   "id": "1262e917",
   "metadata": {},
   "outputs": [],
   "source": [
    "import numpy as np \n",
    "import cv2\n",
    "import matplotlib.pyplot as plt\n",
    "from PIL import Image"
   ]
  },
  {
   "cell_type": "code",
   "execution_count": null,
   "id": "ce360444",
   "metadata": {},
   "outputs": [],
   "source": [
    "img = Image.open(\"C:\\\\Users\\\\dhruv\\\\Pictures\\\\Dhruv\\\\DSC_1005-1.jpg\")"
   ]
  },
  {
   "cell_type": "code",
   "execution_count": null,
   "id": "7b2fe571",
   "metadata": {},
   "outputs": [],
   "source": [
    "img"
   ]
  },
  {
   "cell_type": "code",
   "execution_count": null,
   "id": "8d769196",
   "metadata": {},
   "outputs": [],
   "source": [
    "img_array = np.array(img)"
   ]
  },
  {
   "cell_type": "code",
   "execution_count": null,
   "id": "ac22a3d6",
   "metadata": {},
   "outputs": [],
   "source": [
    "img_array"
   ]
  },
  {
   "cell_type": "code",
   "execution_count": null,
   "id": "94e182c9",
   "metadata": {},
   "outputs": [],
   "source": [
    "img.size"
   ]
  },
  {
   "cell_type": "code",
   "execution_count": null,
   "id": "2ade0570",
   "metadata": {},
   "outputs": [],
   "source": [
    "img.mode"
   ]
  },
  {
   "cell_type": "code",
   "execution_count": null,
   "id": "64bd8db0",
   "metadata": {},
   "outputs": [],
   "source": [
    "# img.shape"
   ]
  },
  {
   "cell_type": "code",
   "execution_count": null,
   "id": "3e8c1fee",
   "metadata": {},
   "outputs": [],
   "source": [
    "img = cv2.imread(\"C:\\\\Users\\\\dhruv\\\\Pictures\\\\Dhruv\\\\DSC_1005-1.jpg\")"
   ]
  },
  {
   "cell_type": "code",
   "execution_count": null,
   "id": "ef1e502b",
   "metadata": {},
   "outputs": [],
   "source": [
    "img"
   ]
  },
  {
   "cell_type": "code",
   "execution_count": null,
   "id": "e911fd29",
   "metadata": {},
   "outputs": [],
   "source": [
    "plt.imshow(img)"
   ]
  },
  {
   "cell_type": "code",
   "execution_count": null,
   "id": "9a110ba5",
   "metadata": {},
   "outputs": [],
   "source": [
    "img.shape"
   ]
  },
  {
   "cell_type": "code",
   "execution_count": null,
   "id": "bfa9128e",
   "metadata": {},
   "outputs": [],
   "source": [
    " type(img)"
   ]
  },
  {
   "cell_type": "code",
   "execution_count": null,
   "id": "feeb2d9d",
   "metadata": {},
   "outputs": [],
   "source": [
    "## wrong adddress\n",
    "\n",
    "img5 = cv2.imread(\"C:\\\\Users\\\\dhruv\\\\Pictures\\\\Dhruv\\\\DSC_10.jpg\")"
   ]
  },
  {
   "cell_type": "code",
   "execution_count": null,
   "id": "8682bd2f",
   "metadata": {},
   "outputs": [],
   "source": [
    "img5"
   ]
  },
  {
   "cell_type": "code",
   "execution_count": null,
   "id": "b9c200ea",
   "metadata": {},
   "outputs": [],
   "source": [
    "# It is not giving an error"
   ]
  },
  {
   "cell_type": "code",
   "execution_count": null,
   "id": "b7c7b3b6",
   "metadata": {},
   "outputs": [],
   "source": [
    "plt.imshow(img)"
   ]
  },
  {
   "cell_type": "code",
   "execution_count": null,
   "id": "4c638665",
   "metadata": {},
   "outputs": [],
   "source": [
    "## there is a problem\n",
    "\n",
    "## it read img as BGR\n",
    "\n",
    "## oposite of RGB"
   ]
  },
  {
   "cell_type": "code",
   "execution_count": null,
   "id": "c6d42e46",
   "metadata": {},
   "outputs": [],
   "source": [
    "# we have to convert BGR to RGB"
   ]
  },
  {
   "cell_type": "code",
   "execution_count": null,
   "id": "8bf63bc5",
   "metadata": {},
   "outputs": [],
   "source": [
    "pic = cv2.cvtColor(img , cv2.COLOR_BGR2RGB)\n",
    "plt.imshow(pic)"
   ]
  },
  {
   "cell_type": "code",
   "execution_count": null,
   "id": "14c9984e",
   "metadata": {},
   "outputs": [],
   "source": [
    "pic = cv2.cvtColor(img , cv2.COLOR_BGR2RGB)\n",
    "plt.imshow(pic)"
   ]
  },
  {
   "cell_type": "code",
   "execution_count": null,
   "id": "aed7059b",
   "metadata": {},
   "outputs": [],
   "source": [
    "pic.shape"
   ]
  },
  {
   "cell_type": "code",
   "execution_count": null,
   "id": "d464bb0a",
   "metadata": {},
   "outputs": [],
   "source": [
    "pic_resize = cv2.resize(pic,(500,1000))"
   ]
  },
  {
   "cell_type": "code",
   "execution_count": null,
   "id": "d3f22d74",
   "metadata": {},
   "outputs": [],
   "source": [
    "plt.imshow(pic_resize)"
   ]
  },
  {
   "cell_type": "code",
   "execution_count": null,
   "id": "27215a52",
   "metadata": {},
   "outputs": [],
   "source": [
    "new_pic = cv2.resize(pic,(0,0),pic,0.5,0.5)\n",
    "plt.imshow(new_pic)"
   ]
  },
  {
   "cell_type": "code",
   "execution_count": null,
   "id": "795cc318",
   "metadata": {},
   "outputs": [],
   "source": [
    "new_pic.shape"
   ]
  },
  {
   "cell_type": "code",
   "execution_count": null,
   "id": "f4102b52",
   "metadata": {},
   "outputs": [],
   "source": [
    "new_pic.size"
   ]
  },
  {
   "cell_type": "code",
   "execution_count": null,
   "id": "e163862c",
   "metadata": {},
   "outputs": [],
   "source": [
    "n_pic = cv2.resize(pic,(1,1),pic,0.5,0.5)\n",
    "plt.imshow(n_pic)"
   ]
  },
  {
   "cell_type": "code",
   "execution_count": null,
   "id": "f5c1be8d",
   "metadata": {},
   "outputs": [],
   "source": [
    "n_pic = cv2.resize(pic,(10,10),pic,0.5,0.5)\n",
    "plt.imshow(n_pic)"
   ]
  },
  {
   "cell_type": "code",
   "execution_count": null,
   "id": "399d28c9",
   "metadata": {},
   "outputs": [],
   "source": [
    "n_pic = cv2.resize(pic,(100,100),pic,0.5,0.5)\n",
    "plt.imshow(n_pic)"
   ]
  },
  {
   "cell_type": "code",
   "execution_count": null,
   "id": "7e9dc0ca",
   "metadata": {},
   "outputs": [],
   "source": [
    "n_pic.shape"
   ]
  },
  {
   "cell_type": "code",
   "execution_count": null,
   "id": "7b1df0d2",
   "metadata": {},
   "outputs": [],
   "source": [
    "n_pic = cv2.resize(pic,(545,545),pic,0.5,0.5)\n",
    "plt.imshow(n_pic)"
   ]
  },
  {
   "cell_type": "code",
   "execution_count": null,
   "id": "21f584a0",
   "metadata": {},
   "outputs": [],
   "source": [
    "n_pic.shape"
   ]
  },
  {
   "cell_type": "code",
   "execution_count": null,
   "id": "8c95717c",
   "metadata": {},
   "outputs": [],
   "source": [
    "new_pic = cv2.resize(pic,(0,0),pic,0.5,0.5)\n",
    "plt.imshow(n_pic)"
   ]
  },
  {
   "cell_type": "code",
   "execution_count": null,
   "id": "6a4fa480",
   "metadata": {},
   "outputs": [],
   "source": [
    "new_pic.shape"
   ]
  },
  {
   "cell_type": "code",
   "execution_count": null,
   "id": "0591e137",
   "metadata": {},
   "outputs": [],
   "source": [
    "new_pic.size"
   ]
  },
  {
   "cell_type": "code",
   "execution_count": null,
   "id": "4b2bde6a",
   "metadata": {},
   "outputs": [],
   "source": [
    "pic_flip = cv2.flip(new_pic,0)\n",
    "pic_flip\n",
    "plt.imshow(pic_flip)"
   ]
  },
  {
   "cell_type": "code",
   "execution_count": null,
   "id": "2db29ea0",
   "metadata": {},
   "outputs": [],
   "source": [
    "pic_flip_y = cv2.flip(new_pic,1)\n",
    "pic_flip\n",
    "plt.imshow(pic_flip_y)"
   ]
  },
  {
   "cell_type": "code",
   "execution_count": null,
   "id": "93828b0b",
   "metadata": {},
   "outputs": [],
   "source": [
    "# for both x and y\n",
    "pic_flip_both = cv2.flip(new_pic,-1)\n",
    "pic_flip_both\n",
    "plt.imshow(pic_flip_both)"
   ]
  },
  {
   "cell_type": "code",
   "execution_count": null,
   "id": "47ce9514",
   "metadata": {},
   "outputs": [],
   "source": [
    "cv2.imwrite(\"saved.png\",pic_flip_y)\n"
   ]
  },
  {
   "cell_type": "code",
   "execution_count": null,
   "id": "11280fe6",
   "metadata": {},
   "outputs": [],
   "source": [
    "my_saved_img = cv2.imread(\"C:\\\\Users\\\\dhruv\\\\Documents\\\\ML\\\\Image_processing\\\\saved.png\")"
   ]
  },
  {
   "cell_type": "code",
   "execution_count": null,
   "id": "8bafb18e",
   "metadata": {},
   "outputs": [],
   "source": [
    "plt.imshow(my_saved_img)"
   ]
  },
  {
   "cell_type": "code",
   "execution_count": null,
   "id": "69bcf113",
   "metadata": {},
   "outputs": [],
   "source": []
  },
  {
   "cell_type": "code",
   "execution_count": null,
   "id": "848545af",
   "metadata": {},
   "outputs": [],
   "source": []
  },
  {
   "cell_type": "code",
   "execution_count": null,
   "id": "2da19207",
   "metadata": {},
   "outputs": [],
   "source": []
  },
  {
   "cell_type": "code",
   "execution_count": null,
   "id": "26b4e78d",
   "metadata": {},
   "outputs": [],
   "source": []
  },
  {
   "cell_type": "code",
   "execution_count": null,
   "id": "ec7754ab",
   "metadata": {},
   "outputs": [],
   "source": []
  },
  {
   "cell_type": "code",
   "execution_count": null,
   "id": "9af60c97",
   "metadata": {},
   "outputs": [],
   "source": []
  },
  {
   "cell_type": "code",
   "execution_count": null,
   "id": "f70081be",
   "metadata": {},
   "outputs": [],
   "source": [
    "import numpy as np\n",
    "import cv2\n",
    "import matplotlib.pyplot as plt"
   ]
  },
  {
   "cell_type": "code",
   "execution_count": null,
   "id": "e052083c",
   "metadata": {},
   "outputs": [],
   "source": [
    "img1 = cv2.imread(\"C:/Users/dhruv/Pictures/Dhruv/IMG_20230501_145434.jpg\")"
   ]
  },
  {
   "cell_type": "code",
   "execution_count": null,
   "id": "9007c200",
   "metadata": {},
   "outputs": [],
   "source": [
    "img1 = cv2.cvtColor(img1,cv2.COLOR_BGR2RGB)"
   ]
  },
  {
   "cell_type": "code",
   "execution_count": null,
   "id": "aa1eb843",
   "metadata": {},
   "outputs": [],
   "source": [
    "plt.imshow(img1)"
   ]
  },
  {
   "cell_type": "code",
   "execution_count": null,
   "id": "35fc9ac9",
   "metadata": {},
   "outputs": [],
   "source": [
    "img.shape"
   ]
  },
  {
   "cell_type": "code",
   "execution_count": null,
   "id": "a8d74098",
   "metadata": {},
   "outputs": [],
   "source": [
    "img.size"
   ]
  },
  {
   "cell_type": "code",
   "execution_count": null,
   "id": "cdc11071",
   "metadata": {},
   "outputs": [],
   "source": [
    "img2 = cv2.imread(\"C:/Users/dhruv/Pictures/Dhruv/Snapchat-1641050341.jpg\")\n",
    "img2"
   ]
  },
  {
   "cell_type": "code",
   "execution_count": null,
   "id": "ac75a808",
   "metadata": {},
   "outputs": [],
   "source": [
    "plt.imshow(img2)"
   ]
  },
  {
   "cell_type": "code",
   "execution_count": null,
   "id": "b78f2fbc",
   "metadata": {},
   "outputs": [],
   "source": [
    "img2 = cv2.cvtColor(img2,cv2.COLOR_BGR2RGB)"
   ]
  },
  {
   "cell_type": "code",
   "execution_count": null,
   "id": "13c4ed28",
   "metadata": {},
   "outputs": [],
   "source": [
    "plt.imshow(img2)"
   ]
  },
  {
   "cell_type": "code",
   "execution_count": null,
   "id": "c1d21d40",
   "metadata": {
    "scrolled": true
   },
   "outputs": [],
   "source": [
    "plt.imshow(img1)"
   ]
  },
  {
   "cell_type": "code",
   "execution_count": null,
   "id": "7b9f6fae",
   "metadata": {},
   "outputs": [],
   "source": [
    "img1.size"
   ]
  },
  {
   "cell_type": "code",
   "execution_count": null,
   "id": "08758831",
   "metadata": {},
   "outputs": [],
   "source": [
    "img2.size"
   ]
  },
  {
   "cell_type": "code",
   "execution_count": null,
   "id": "9a997f18",
   "metadata": {},
   "outputs": [],
   "source": [
    "img1.shape,img2.shape"
   ]
  },
  {
   "cell_type": "code",
   "execution_count": null,
   "id": "2a2c1a0a",
   "metadata": {},
   "outputs": [],
   "source": [
    "img1.shape , img1.size"
   ]
  },
  {
   "cell_type": "code",
   "execution_count": null,
   "id": "bebd1136",
   "metadata": {},
   "outputs": [],
   "source": [
    "img1 = cv2.resize(img1,(720,1280))\n",
    "img1.shape , img1.size"
   ]
  },
  {
   "cell_type": "code",
   "execution_count": null,
   "id": "3000fa41",
   "metadata": {},
   "outputs": [],
   "source": [
    "img2.shape , img2.size"
   ]
  },
  {
   "cell_type": "code",
   "execution_count": null,
   "id": "6cc8ad2f",
   "metadata": {},
   "outputs": [],
   "source": [
    "img1"
   ]
  },
  {
   "cell_type": "code",
   "execution_count": null,
   "id": "d25bd085",
   "metadata": {},
   "outputs": [],
   "source": [
    "img2"
   ]
  },
  {
   "cell_type": "code",
   "execution_count": null,
   "id": "44b915f3",
   "metadata": {},
   "outputs": [],
   "source": [
    "add_img = cv2.add(img1,img2)\n",
    "plt.imshow(add_img)\n",
    "\n",
    "## both size and shape should be same "
   ]
  },
  {
   "cell_type": "code",
   "execution_count": null,
   "id": "2db64668",
   "metadata": {},
   "outputs": [],
   "source": [
    "weights_img = cv2.addWeighted(img1, 0.5, img2, 0.4, 0)\n",
    "plt.imshow(weights_img)"
   ]
  },
  {
   "cell_type": "code",
   "execution_count": null,
   "id": "94f662e8",
   "metadata": {},
   "outputs": [],
   "source": [
    "weights_img = cv2.addWeighted(img1, 1, img2, 1, 0)\n",
    "plt.imshow(weights_img)"
   ]
  },
  {
   "cell_type": "code",
   "execution_count": null,
   "id": "e5e57a28",
   "metadata": {},
   "outputs": [],
   "source": [
    "weights_img = cv2.addWeighted(img1, 0, img2, 0, 0)\n",
    "plt.imshow(weights_img)"
   ]
  },
  {
   "cell_type": "code",
   "execution_count": null,
   "id": "747b5d37",
   "metadata": {},
   "outputs": [],
   "source": [
    "weights_img = cv2.addWeighted(img1, 0.2, img2, 0.6, 0)\n",
    "plt.imshow(weights_img)"
   ]
  },
  {
   "cell_type": "code",
   "execution_count": null,
   "id": "33559352",
   "metadata": {},
   "outputs": [],
   "source": [
    "weights_img = cv2.addWeighted(img1, 0.8, img2, 0.5,0)\n",
    "plt.imshow(weights_img)"
   ]
  },
  {
   "cell_type": "code",
   "execution_count": null,
   "id": "64c78d26",
   "metadata": {},
   "outputs": [],
   "source": [
    "weights_img = cv2.addWeighted(img1, 0.5, img2, 0.4, 10)\n",
    "plt.imshow(weights_img)"
   ]
  },
  {
   "cell_type": "code",
   "execution_count": null,
   "id": "5b58df48",
   "metadata": {},
   "outputs": [],
   "source": [
    "weights_img = cv2.addWeighted(img1, 0.5, img2, 0.4, 0)\n",
    "plt.imshow(weights_img)"
   ]
  },
  {
   "cell_type": "code",
   "execution_count": null,
   "id": "150e9e1e",
   "metadata": {},
   "outputs": [],
   "source": [
    "weights_img = cv2.addWeighted(img1, 0.5, img2, 0.4, 100)\n",
    "plt.imshow(weights_img)"
   ]
  },
  {
   "cell_type": "code",
   "execution_count": null,
   "id": "6c9d2ce1",
   "metadata": {},
   "outputs": [],
   "source": [
    "### gama apply to whole img"
   ]
  },
  {
   "cell_type": "code",
   "execution_count": null,
   "id": "010b45bf",
   "metadata": {},
   "outputs": [],
   "source": [
    "weights_img = cv2.addWeighted(img1, 0.5, img2, 0.4, 200)\n",
    "plt.imshow(weights_img)"
   ]
  },
  {
   "cell_type": "code",
   "execution_count": null,
   "id": "85c8245b",
   "metadata": {},
   "outputs": [],
   "source": []
  },
  {
   "cell_type": "code",
   "execution_count": null,
   "id": "17888628",
   "metadata": {},
   "outputs": [],
   "source": []
  },
  {
   "cell_type": "code",
   "execution_count": null,
   "id": "935189ae",
   "metadata": {},
   "outputs": [],
   "source": []
  },
  {
   "cell_type": "code",
   "execution_count": null,
   "id": "ee9bbb2c",
   "metadata": {},
   "outputs": [],
   "source": [
    "## substarct"
   ]
  },
  {
   "cell_type": "code",
   "execution_count": null,
   "id": "9d8116a1",
   "metadata": {},
   "outputs": [],
   "source": [
    "sub_img = cv2.subtract(img1,img2)\n",
    "plt.imshow(sub_img)"
   ]
  },
  {
   "cell_type": "code",
   "execution_count": null,
   "id": "0598af62",
   "metadata": {},
   "outputs": [],
   "source": []
  },
  {
   "cell_type": "code",
   "execution_count": null,
   "id": "7111066c",
   "metadata": {},
   "outputs": [],
   "source": [
    "sub_img = cv2.subtract(img2,img1)\n",
    "plt.imshow(sub_img)"
   ]
  },
  {
   "cell_type": "code",
   "execution_count": null,
   "id": "fe13e679",
   "metadata": {},
   "outputs": [],
   "source": []
  },
  {
   "cell_type": "code",
   "execution_count": null,
   "id": "24dc1012",
   "metadata": {},
   "outputs": [],
   "source": []
  },
  {
   "cell_type": "code",
   "execution_count": null,
   "id": "0c834277",
   "metadata": {},
   "outputs": [],
   "source": []
  },
  {
   "cell_type": "code",
   "execution_count": null,
   "id": "555891fe",
   "metadata": {},
   "outputs": [],
   "source": []
  },
  {
   "cell_type": "code",
   "execution_count": null,
   "id": "662d273f",
   "metadata": {},
   "outputs": [],
   "source": []
  },
  {
   "cell_type": "code",
   "execution_count": null,
   "id": "89b08836",
   "metadata": {},
   "outputs": [],
   "source": [
    "# bitwise opration "
   ]
  },
  {
   "cell_type": "code",
   "execution_count": null,
   "id": "fd11420f",
   "metadata": {},
   "outputs": [],
   "source": [
    "anding = cv2.bitwise_and(img1,img2)\n",
    "plt.imshow(anding)"
   ]
  },
  {
   "cell_type": "code",
   "execution_count": null,
   "id": "3f9bd1bc",
   "metadata": {},
   "outputs": [],
   "source": [
    "oring = cv2.bitwise_or(img1,img2)\n",
    "plt.imshow(oring)"
   ]
  },
  {
   "cell_type": "code",
   "execution_count": null,
   "id": "02fc5bd2",
   "metadata": {},
   "outputs": [],
   "source": [
    "noting = cv2.bitwise_not(img1)\n",
    "plt.imshow(noting)"
   ]
  },
  {
   "cell_type": "code",
   "execution_count": null,
   "id": "1642528b",
   "metadata": {},
   "outputs": [],
   "source": [
    "noting1 = cv2.bitwise_not(img2)\n",
    "plt.imshow(noting1)"
   ]
  },
  {
   "cell_type": "code",
   "execution_count": null,
   "id": "c52da3d3",
   "metadata": {},
   "outputs": [],
   "source": [
    "Eoring = cv2.bitwise_xor(img1,img2)\n",
    "plt.imshow(Eoring)"
   ]
  },
  {
   "cell_type": "code",
   "execution_count": null,
   "id": "80406347",
   "metadata": {},
   "outputs": [],
   "source": []
  },
  {
   "cell_type": "code",
   "execution_count": null,
   "id": "c738c387",
   "metadata": {},
   "outputs": [],
   "source": []
  },
  {
   "cell_type": "code",
   "execution_count": null,
   "id": "968ecec2",
   "metadata": {},
   "outputs": [],
   "source": []
  },
  {
   "cell_type": "code",
   "execution_count": null,
   "id": "11567a8f",
   "metadata": {},
   "outputs": [],
   "source": []
  },
  {
   "cell_type": "code",
   "execution_count": null,
   "id": "f4f9696a",
   "metadata": {},
   "outputs": [],
   "source": [
    "import cv2 \n",
    "import matplotlib.pyplot as plt"
   ]
  },
  {
   "cell_type": "code",
   "execution_count": null,
   "id": "ebfe212c",
   "metadata": {},
   "outputs": [],
   "source": [
    "img = cv2.imread(\"C:/Users/dhruv/Pictures/Dhruv/Snapchat-1641050341.jpg\")"
   ]
  },
  {
   "cell_type": "code",
   "execution_count": null,
   "id": "8379393c",
   "metadata": {},
   "outputs": [],
   "source": [
    "img"
   ]
  },
  {
   "cell_type": "code",
   "execution_count": null,
   "id": "5ac98c6a",
   "metadata": {},
   "outputs": [],
   "source": [
    "plt.imshow(img)"
   ]
  },
  {
   "cell_type": "code",
   "execution_count": null,
   "id": "006e34db",
   "metadata": {},
   "outputs": [],
   "source": [
    "## BGR"
   ]
  },
  {
   "cell_type": "code",
   "execution_count": null,
   "id": "fa711b38",
   "metadata": {},
   "outputs": [],
   "source": []
  },
  {
   "cell_type": "code",
   "execution_count": null,
   "id": "7d4df41f",
   "metadata": {},
   "outputs": [],
   "source": [
    "img = cv2.cvtColor(img, cv2.COLOR_BGR2RGB)\n",
    "plt.imshow(img)"
   ]
  },
  {
   "cell_type": "code",
   "execution_count": null,
   "id": "c12d6eb2",
   "metadata": {},
   "outputs": [],
   "source": [
    "img1 = cv2.cvtColor(img , cv2.COLOR_RGB2HSV)\n",
    "plt.imshow(img1)"
   ]
  },
  {
   "cell_type": "code",
   "execution_count": null,
   "id": "ad9d3db4",
   "metadata": {},
   "outputs": [],
   "source": [
    "img2 = cv2.cvtColor(img , cv2.COLOR_RGB2HLS)\n",
    "plt.imshow(img2)"
   ]
  },
  {
   "cell_type": "code",
   "execution_count": null,
   "id": "88ebb70e",
   "metadata": {},
   "outputs": [],
   "source": []
  },
  {
   "cell_type": "code",
   "execution_count": null,
   "id": "acccd4c5",
   "metadata": {},
   "outputs": [],
   "source": []
  },
  {
   "cell_type": "code",
   "execution_count": null,
   "id": "3f8e386a",
   "metadata": {},
   "outputs": [],
   "source": []
  },
  {
   "cell_type": "code",
   "execution_count": null,
   "id": "4ecd7ae4",
   "metadata": {},
   "outputs": [],
   "source": []
  },
  {
   "cell_type": "code",
   "execution_count": null,
   "id": "325a50e2",
   "metadata": {},
   "outputs": [],
   "source": []
  },
  {
   "cell_type": "code",
   "execution_count": null,
   "id": "070afd6b",
   "metadata": {},
   "outputs": [],
   "source": []
  },
  {
   "cell_type": "code",
   "execution_count": null,
   "id": "15bec57b",
   "metadata": {},
   "outputs": [],
   "source": []
  },
  {
   "cell_type": "code",
   "execution_count": null,
   "id": "059dde6b",
   "metadata": {},
   "outputs": [],
   "source": []
  },
  {
   "cell_type": "code",
   "execution_count": null,
   "id": "187c3863",
   "metadata": {},
   "outputs": [],
   "source": [
    "import cv2\n",
    "import numpy as np \n",
    "import matplotlib.pyplot as plt"
   ]
  },
  {
   "cell_type": "code",
   "execution_count": null,
   "id": "5d84a637",
   "metadata": {},
   "outputs": [],
   "source": [
    "img = cv2.imread(\"C:/Users/dhruv/Pictures/Dhruv/Snapchat-1641050341.jpg\")\n",
    "plt.imshow(img)"
   ]
  },
  {
   "cell_type": "code",
   "execution_count": null,
   "id": "d14cfc60",
   "metadata": {},
   "outputs": [],
   "source": [
    "# for threshold we have to take img in grayscale"
   ]
  },
  {
   "cell_type": "code",
   "execution_count": null,
   "id": "66ae59c4",
   "metadata": {},
   "outputs": [],
   "source": [
    "img = cv2.imread(\"C:/Users/dhruv/Pictures/Dhruv/Snapchat-1641050341.jpg\",0)\n"
   ]
  },
  {
   "cell_type": "code",
   "execution_count": null,
   "id": "23909ddc",
   "metadata": {},
   "outputs": [],
   "source": [
    "plt.imshow(img,cmap=\"gray\")"
   ]
  },
  {
   "cell_type": "code",
   "execution_count": null,
   "id": "481c58a2",
   "metadata": {},
   "outputs": [],
   "source": [
    "lim,t_img_1 = cv2.threshold(img,100,255,cv2.THRESH_BINARY)\n",
    "\n",
    "## 100 is threshold \n",
    "## and 255 is max value "
   ]
  },
  {
   "cell_type": "code",
   "execution_count": null,
   "id": "4a6e0a88",
   "metadata": {},
   "outputs": [],
   "source": [
    "plt.imshow(t_img_1,cmap=\"gray\")"
   ]
  },
  {
   "cell_type": "code",
   "execution_count": null,
   "id": "5f343068",
   "metadata": {},
   "outputs": [],
   "source": [
    "lim"
   ]
  },
  {
   "cell_type": "code",
   "execution_count": null,
   "id": "f1809146",
   "metadata": {},
   "outputs": [],
   "source": [
    "lim,t_img_2 = cv2.threshold(img,100,255,cv2.THRESH_BINARY_INV)\n",
    "\n",
    "## 100 is threshold \n",
    "## and 255 is max value "
   ]
  },
  {
   "cell_type": "code",
   "execution_count": null,
   "id": "75ad5047",
   "metadata": {},
   "outputs": [],
   "source": [
    "plt.imshow(t_img_2,cmap=\"gray\")"
   ]
  },
  {
   "cell_type": "code",
   "execution_count": null,
   "id": "2dd77a67",
   "metadata": {},
   "outputs": [],
   "source": [
    "lim,t_img_3 = cv2.threshold(img,100,255,cv2.THRESH_TRUNC)\n",
    "plt.imshow(t_img_3,cmap=\"gray\")"
   ]
  },
  {
   "cell_type": "code",
   "execution_count": null,
   "id": "9148cbe8",
   "metadata": {},
   "outputs": [],
   "source": [
    "lim,t_img_4 = cv2.threshold(img,100,255,cv2.THRESH_TOZERO)\n",
    "plt.imshow(t_img_4, cmap=\"gray\")"
   ]
  },
  {
   "cell_type": "code",
   "execution_count": null,
   "id": "982e56a1",
   "metadata": {},
   "outputs": [],
   "source": [
    "lim,t_img_5 = cv2.threshold(img,100,255,cv2.THRESH_TOZERO_INV)\n",
    "plt.imshow(t_img_5, cmap=\"gray\")"
   ]
  },
  {
   "cell_type": "code",
   "execution_count": null,
   "id": "490c3d04",
   "metadata": {},
   "outputs": [],
   "source": []
  },
  {
   "cell_type": "code",
   "execution_count": null,
   "id": "b9d53657",
   "metadata": {},
   "outputs": [],
   "source": []
  },
  {
   "cell_type": "code",
   "execution_count": null,
   "id": "d0080241",
   "metadata": {},
   "outputs": [],
   "source": []
  },
  {
   "cell_type": "code",
   "execution_count": null,
   "id": "bf89bbb7",
   "metadata": {},
   "outputs": [],
   "source": []
  },
  {
   "cell_type": "code",
   "execution_count": null,
   "id": "c931cf72",
   "metadata": {},
   "outputs": [],
   "source": []
  },
  {
   "cell_type": "code",
   "execution_count": null,
   "id": "5c549683",
   "metadata": {},
   "outputs": [],
   "source": []
  },
  {
   "cell_type": "code",
   "execution_count": null,
   "id": "b9d29f71",
   "metadata": {},
   "outputs": [],
   "source": [
    "# ## Noise"
   ]
  },
  {
   "cell_type": "code",
   "execution_count": null,
   "id": "db14676b",
   "metadata": {},
   "outputs": [],
   "source": [
    "import numpy as np\n",
    "import cv2\n",
    "import matplotlib.pyplot as plt"
   ]
  },
  {
   "cell_type": "code",
   "execution_count": null,
   "id": "52a02e55",
   "metadata": {},
   "outputs": [],
   "source": [
    "noise = np.random.randint(0,2,(500,500))\n",
    "noise"
   ]
  },
  {
   "cell_type": "code",
   "execution_count": null,
   "id": "609830ce",
   "metadata": {},
   "outputs": [],
   "source": [
    "noise.shape"
   ]
  },
  {
   "cell_type": "code",
   "execution_count": null,
   "id": "4d25ef45",
   "metadata": {},
   "outputs": [],
   "source": [
    "noise.size"
   ]
  },
  {
   "cell_type": "code",
   "execution_count": null,
   "id": "b5bc3f9d",
   "metadata": {},
   "outputs": [],
   "source": [
    "noise"
   ]
  },
  {
   "cell_type": "code",
   "execution_count": null,
   "id": "93fefbc6",
   "metadata": {},
   "outputs": [],
   "source": [
    "plt.imshow(noise,cmap=\"gray\")"
   ]
  },
  {
   "cell_type": "code",
   "execution_count": null,
   "id": "90e91793",
   "metadata": {},
   "outputs": [],
   "source": [
    "noise = noise*255"
   ]
  },
  {
   "cell_type": "code",
   "execution_count": null,
   "id": "c340c92e",
   "metadata": {},
   "outputs": [],
   "source": [
    "noise"
   ]
  },
  {
   "cell_type": "code",
   "execution_count": null,
   "id": "0980422e",
   "metadata": {},
   "outputs": [],
   "source": [
    "plt.imshow(noise,cmap=\"gray\")"
   ]
  },
  {
   "cell_type": "code",
   "execution_count": null,
   "id": "d0978e7e",
   "metadata": {},
   "outputs": [],
   "source": [
    "noise"
   ]
  },
  {
   "cell_type": "code",
   "execution_count": null,
   "id": "170bebd6",
   "metadata": {},
   "outputs": [],
   "source": [
    "img = np.zeros((500,500),dtype=np.int32)\n",
    "plt.imshow(img,cmap=\"gray\")"
   ]
  },
  {
   "cell_type": "code",
   "execution_count": null,
   "id": "9058e187",
   "metadata": {},
   "outputs": [],
   "source": [
    "img.shape"
   ]
  },
  {
   "cell_type": "code",
   "execution_count": null,
   "id": "7ca41fe5",
   "metadata": {},
   "outputs": [],
   "source": [
    "cv2.circle(img,center=(250,250),radius=50,color=(255,0,0),thickness=5)\n",
    "plt.imshow(img,cmap=\"gray\")"
   ]
  },
  {
   "cell_type": "code",
   "execution_count": null,
   "id": "aef986d8",
   "metadata": {},
   "outputs": [],
   "source": [
    "img = img + noise"
   ]
  },
  {
   "cell_type": "code",
   "execution_count": null,
   "id": "b7e186f0",
   "metadata": {},
   "outputs": [],
   "source": [
    "plt.imshow(img,cmap=\"gray\")"
   ]
  },
  {
   "cell_type": "code",
   "execution_count": null,
   "id": "3b4c08f6",
   "metadata": {},
   "outputs": [],
   "source": [
    "noise1 = np.random.randint(0,2,(500,500))\n",
    "noise1"
   ]
  },
  {
   "cell_type": "code",
   "execution_count": null,
   "id": "1b28cffd",
   "metadata": {},
   "outputs": [],
   "source": [
    "noise1 = noise1*(-255)\n",
    "noise1"
   ]
  },
  {
   "cell_type": "code",
   "execution_count": null,
   "id": "7dd1c7a3",
   "metadata": {},
   "outputs": [],
   "source": [
    "plt.imshow(noise1,cmap=\"gray\")"
   ]
  },
  {
   "cell_type": "code",
   "execution_count": null,
   "id": "d5d187c2",
   "metadata": {},
   "outputs": [],
   "source": [
    "img = np.zeros((500,500))\n",
    "plt.imshow(img,cmap=\"gray\")"
   ]
  },
  {
   "cell_type": "code",
   "execution_count": null,
   "id": "8cf25d4d",
   "metadata": {},
   "outputs": [],
   "source": [
    "cv2.circle(img,center=(250,250),radius=15,color=(255,255,255),thickness=3)\n",
    "plt.imshow(img,cmap=\"gray\")"
   ]
  },
  {
   "cell_type": "code",
   "execution_count": null,
   "id": "8013fdaf",
   "metadata": {},
   "outputs": [],
   "source": [
    "img1 = img+noise1"
   ]
  },
  {
   "cell_type": "code",
   "execution_count": null,
   "id": "47e13546",
   "metadata": {},
   "outputs": [],
   "source": [
    "plt.imshow(img1,cmap=\"gray\")"
   ]
  },
  {
   "cell_type": "code",
   "execution_count": null,
   "id": "f3c7f80a",
   "metadata": {},
   "outputs": [],
   "source": [
    "img1"
   ]
  },
  {
   "cell_type": "code",
   "execution_count": null,
   "id": "df6ba6c7",
   "metadata": {},
   "outputs": [],
   "source": [
    "img1[img1==-255] = 0\n",
    "plt.imshow(img1,cmap=\"gray\")"
   ]
  },
  {
   "cell_type": "code",
   "execution_count": null,
   "id": "94ea8f9e",
   "metadata": {},
   "outputs": [],
   "source": []
  },
  {
   "cell_type": "code",
   "execution_count": null,
   "id": "b4b40dee",
   "metadata": {},
   "outputs": [],
   "source": []
  },
  {
   "cell_type": "code",
   "execution_count": null,
   "id": "49902609",
   "metadata": {},
   "outputs": [],
   "source": []
  },
  {
   "cell_type": "code",
   "execution_count": null,
   "id": "3cdb97d4",
   "metadata": {},
   "outputs": [],
   "source": []
  },
  {
   "cell_type": "code",
   "execution_count": null,
   "id": "3ed648fc",
   "metadata": {},
   "outputs": [],
   "source": []
  },
  {
   "cell_type": "code",
   "execution_count": null,
   "id": "ae919d8b",
   "metadata": {},
   "outputs": [],
   "source": []
  },
  {
   "cell_type": "code",
   "execution_count": null,
   "id": "3e66e8ae",
   "metadata": {},
   "outputs": [],
   "source": [
    "import cv2\n",
    "import numpy as np\n",
    "import matplotlib.pyplot as plt"
   ]
  },
  {
   "cell_type": "code",
   "execution_count": null,
   "id": "79dac49c",
   "metadata": {},
   "outputs": [],
   "source": [
    "img = np.zeros((500,500),dtype=np.int32)\n",
    "plt.imshow(img,cmap=\"gray\")"
   ]
  },
  {
   "cell_type": "code",
   "execution_count": null,
   "id": "35288cf1",
   "metadata": {},
   "outputs": [],
   "source": [
    "cv2.putText(img,\"1\",(100,400),cv2.FONT_HERSHEY_PLAIN,fontScale=30,color=(255,255,255),thickness=30)\n",
    "plt.imshow(img,cmap=\"gray\")"
   ]
  },
  {
   "cell_type": "code",
   "execution_count": null,
   "id": "046734d2",
   "metadata": {},
   "outputs": [],
   "source": [
    "cv2.putText(img,\"Dhruv Panchal\",(10,450),cv2.FONT_HERSHEY_PLAIN,fontScale=2.5,color=(255,255,255),thickness=30)\n",
    "plt.imshow(img,cmap=\"gray\")"
   ]
  },
  {
   "cell_type": "code",
   "execution_count": null,
   "id": "d1091306",
   "metadata": {},
   "outputs": [],
   "source": [
    "img1 = np.zeros((500,500))\n",
    "plt.imshow(img1,cmap=\"gray\")"
   ]
  },
  {
   "cell_type": "code",
   "execution_count": null,
   "id": "ed03570b",
   "metadata": {},
   "outputs": [],
   "source": [
    "cv2.putText(img1,\"1\",(100,400),cv2.FONT_HERSHEY_PLAIN,fontScale=30,color=(255,255,255),thickness=30)\n",
    "cv2.putText(img1,\"1\",(100,400),cv2.FONT_HERSHEY_PLAIN,fontScale=30,color=(0,0,0),thickness=28)\n",
    "plt.imshow(img1,cmap=\"gray\")\n",
    "\n",
    "\n",
    "## play with thickness"
   ]
  },
  {
   "cell_type": "code",
   "execution_count": null,
   "id": "9fdaad27",
   "metadata": {},
   "outputs": [],
   "source": [
    "cv2.putText(img1,\"Dhruv Panchal\",(10,450),cv2.FONT_HERSHEY_PLAIN,fontScale=2.7,color=(255,255,255),thickness=15)\n",
    "cv2.putText(img1,\"Dhruv Panchal\",(10,450),cv2.FONT_HERSHEY_PLAIN,fontScale=2.7,color=(0,0,0),thickness=3)\n",
    "plt.imshow(img1,cmap=\"gray\")"
   ]
  },
  {
   "cell_type": "code",
   "execution_count": null,
   "id": "51430786",
   "metadata": {},
   "outputs": [],
   "source": []
  }
 ],
 "metadata": {
  "kernelspec": {
   "display_name": "Python 3 (ipykernel)",
   "language": "python",
   "name": "python3"
  },
  "language_info": {
   "codemirror_mode": {
    "name": "ipython",
    "version": 3
   },
   "file_extension": ".py",
   "mimetype": "text/x-python",
   "name": "python",
   "nbconvert_exporter": "python",
   "pygments_lexer": "ipython3",
   "version": "3.9.13"
  }
 },
 "nbformat": 4,
 "nbformat_minor": 5
}
